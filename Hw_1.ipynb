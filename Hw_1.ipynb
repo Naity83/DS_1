{
  "nbformat": 4,
  "nbformat_minor": 0,
  "metadata": {
    "colab": {
      "provenance": []
    },
    "kernelspec": {
      "name": "python3",
      "display_name": "Python 3"
    },
    "language_info": {
      "name": "python"
    }
  },
  "cells": [
    {
      "cell_type": "code",
      "execution_count": 2,
      "metadata": {
        "id": "Ze-iKRePx8cE"
      },
      "outputs": [],
      "source": [
        "import numpy as np"
      ]
    },
    {
      "cell_type": "markdown",
      "source": [
        "**Task 1**\n",
        "Створіть одновимірний масив (вектор) з першими 10-ма натуральними числами та виведіть його значення"
      ],
      "metadata": {
        "id": "xNZVuGwGIT0O"
      }
    },
    {
      "cell_type": "code",
      "source": [
        "\n",
        "vector_1 = np.array([1, 2, 3, 4, 5, 6, 7, 8, 9, 10])\n",
        "print(vector_1)\n",
        "vector_2 = np.arange(1, 11)\n",
        "print(vector_2)\n"
      ],
      "metadata": {
        "colab": {
          "base_uri": "https://localhost:8080/"
        },
        "id": "YMSf99CZIxBR",
        "outputId": "52bd078b-1290-4d9b-d060-9d586fd9e33c"
      },
      "execution_count": null,
      "outputs": [
        {
          "output_type": "stream",
          "name": "stdout",
          "text": [
            "[ 1  2  3  4  5  6  7  8  9 10]\n",
            "[ 1  2  3  4  5  6  7  8  9 10]\n"
          ]
        }
      ]
    },
    {
      "cell_type": "markdown",
      "source": [
        "**Task**\n",
        "Створіть двовимірний масив (матрицю) розміром 3x3, заповніть його нулями та виведіть його значення"
      ],
      "metadata": {
        "id": "1x13dwEV0bdI"
      }
    },
    {
      "cell_type": "code",
      "source": [
        "matrix = np.zeros((3, 3))\n",
        "print(matrix)"
      ],
      "metadata": {
        "colab": {
          "base_uri": "https://localhost:8080/"
        },
        "id": "Dc-gZdWk11kX",
        "outputId": "0cd079d5-c0d5-4d48-8564-16ba0b1455fa"
      },
      "execution_count": null,
      "outputs": [
        {
          "output_type": "stream",
          "name": "stdout",
          "text": [
            "[[0. 0. 0.]\n",
            " [0. 0. 0.]\n",
            " [0. 0. 0.]]\n"
          ]
        }
      ]
    },
    {
      "cell_type": "markdown",
      "source": [
        "**Task 3**\n",
        "Створіть масив розміром 5x5, заповніть його випадковими цілими числами в діапазоні від 1 до 10 та виведіть його значення"
      ],
      "metadata": {
        "id": "lE2xfgP22duG"
      }
    },
    {
      "cell_type": "code",
      "source": [
        "matrix = np.random.randint(1, 11, (5, 5))\n",
        "print(matrix)"
      ],
      "metadata": {
        "colab": {
          "base_uri": "https://localhost:8080/"
        },
        "id": "3N4zlaFL2om3",
        "outputId": "bbbdcc65-03a2-4016-b1c2-8754a01217af"
      },
      "execution_count": null,
      "outputs": [
        {
          "output_type": "stream",
          "name": "stdout",
          "text": [
            "[[ 3  9  3  3 10]\n",
            " [ 8  4  4 10  9]\n",
            " [ 7  2 10  9  7]\n",
            " [ 2  9  7  1  9]\n",
            " [ 3  3  5  5  4]]\n"
          ]
        }
      ]
    },
    {
      "cell_type": "markdown",
      "source": [
        "**Task 4**\n",
        "Створіть масив розміром 4x4, заповніть його випадковими дійсними числами в діапазоні від 0 до 1 та виведіть його значення"
      ],
      "metadata": {
        "id": "NI-Xd69q6NVO"
      }
    },
    {
      "cell_type": "code",
      "source": [
        "matrix = np.random.random((4, 4))\n",
        "print(matrix)"
      ],
      "metadata": {
        "colab": {
          "base_uri": "https://localhost:8080/"
        },
        "id": "VxTpYLYs6SNH",
        "outputId": "919a5ad5-976b-4738-d42f-0b95b33dec0d"
      },
      "execution_count": null,
      "outputs": [
        {
          "output_type": "stream",
          "name": "stdout",
          "text": [
            "[[0.82525328 0.99220754 0.89333393 0.18690272]\n",
            " [0.25230493 0.60133602 0.1684687  0.34443123]\n",
            " [0.99532753 0.00858665 0.42492889 0.87745173]\n",
            " [0.99442536 0.92088407 0.72884996 0.80450304]]\n"
          ]
        }
      ]
    },
    {
      "cell_type": "markdown",
      "source": [
        "**Task 5**\n",
        "Створіть два одновимірних масиви розміром 5, заповніть їх випадковими цілими числами в діапазоні від 1 до 10 та виконайте на них поелементні операції додавання, віднімання та множення."
      ],
      "metadata": {
        "id": "vHvD4Uqn6zud"
      }
    },
    {
      "cell_type": "code",
      "source": [
        "a = np.random.randint(1, 11, (5))\n",
        "b = np.random.randint(1, 11, (5))\n",
        "print(a)\n",
        "print(b)\n",
        "print(\"Операція додавання:\", a+b)\n",
        "print(\"Операція віднімання:\", a-b)\n",
        "print(\"Операція множення:\", a*b)"
      ],
      "metadata": {
        "colab": {
          "base_uri": "https://localhost:8080/"
        },
        "id": "su6bkC6W69vA",
        "outputId": "d7b41294-b306-4263-f19f-bd369611af25"
      },
      "execution_count": 3,
      "outputs": [
        {
          "output_type": "stream",
          "name": "stdout",
          "text": [
            "[8 6 6 8 8]\n",
            "[3 4 3 2 8]\n",
            "Операція додавання: [11 10  9 10 16]\n",
            "Операція віднімання: [5 2 3 6 0]\n",
            "Операція множення: [24 24 18 16 64]\n"
          ]
        }
      ]
    },
    {
      "cell_type": "markdown",
      "source": [
        "**Task 6**\n",
        "Створіть два вектори розміром 7, заповніть довільними числами та знайдіть їх скалярний добуток"
      ],
      "metadata": {
        "id": "C2sZKJncYn7m"
      }
    },
    {
      "cell_type": "code",
      "source": [
        "vector_a = np.random.randint(1, 101, 7)\n",
        "vector_b = np.random.randint(1, 101, 7)\n",
        "print(vector_a)\n",
        "print(vector_b)\n",
        "scalar = np.dot(vector_a, vector_b)\n",
        "print(scalar)\n"
      ],
      "metadata": {
        "colab": {
          "base_uri": "https://localhost:8080/"
        },
        "id": "NlSIXGq-Yvus",
        "outputId": "82b68738-60fd-42a1-d3b8-e75c261e447b"
      },
      "execution_count": 4,
      "outputs": [
        {
          "output_type": "stream",
          "name": "stdout",
          "text": [
            "[44 95 45  6 21  9 98]\n",
            "[21  8 32 90 70 93 50]\n",
            "10871\n"
          ]
        }
      ]
    },
    {
      "cell_type": "markdown",
      "source": [
        "**Task 7**\n",
        "Створіть дві матриці розміром 2x2 та 2x3, заповніть їх випадковими цілими числами в діапазоні від 1 до 10 та перемножте їх між собою"
      ],
      "metadata": {
        "id": "S9lbsFpHZjHW"
      }
    },
    {
      "cell_type": "code",
      "source": [
        "matrix_1 = np.random.randint(1, 11, (2, 2))\n",
        "matrix_2 = np.random.randint(1, 11, (2, 3))\n",
        "print(matrix_1)\n",
        "print(matrix_2)\n",
        "result = np.dot(matrix_1, matrix_2)\n",
        "print(result)"
      ],
      "metadata": {
        "colab": {
          "base_uri": "https://localhost:8080/"
        },
        "id": "g8CCxcbZaCUm",
        "outputId": "b24599f4-1a24-48d9-f2ed-dcbf7d90d6b2"
      },
      "execution_count": 6,
      "outputs": [
        {
          "output_type": "stream",
          "name": "stdout",
          "text": [
            "[[ 2 10]\n",
            " [ 3  8]]\n",
            "[[ 8  6 10]\n",
            " [ 5  8  9]]\n",
            "[[ 66  92 110]\n",
            " [ 64  82 102]]\n"
          ]
        }
      ]
    },
    {
      "cell_type": "markdown",
      "source": [
        "**Task 8**\n",
        "Створіть матрицю розміром 3x3, заповніть її випадковими цілими числами в діапазоні від 1 до 10 та знайдіть її обернену матрицю."
      ],
      "metadata": {
        "id": "hlHgfhcMbhno"
      }
    },
    {
      "cell_type": "code",
      "source": [
        "matrix = np.random.randint(1, 11, (3, 3))\n",
        "print(\"Матриця початкова\")\n",
        "print(matrix)\n",
        "inverse_matrix = np.linalg.inv(matrix)\n",
        "print(\"Матриця обернена\")\n",
        "print(inverse_matrix)\n"
      ],
      "metadata": {
        "colab": {
          "base_uri": "https://localhost:8080/"
        },
        "id": "Ge6L2WTMbwxt",
        "outputId": "ad86dda7-b60c-44de-8f6e-49202e10992f"
      },
      "execution_count": 7,
      "outputs": [
        {
          "output_type": "stream",
          "name": "stdout",
          "text": [
            "Матриця початкова\n",
            "[[7 4 6]\n",
            " [8 8 7]\n",
            " [8 2 3]]\n",
            "Матриця обернена\n",
            "[[-1.11111111e-01  5.55111512e-17  2.22222222e-01]\n",
            " [-3.55555556e-01  3.00000000e-01  1.11111111e-02]\n",
            " [ 5.33333333e-01 -2.00000000e-01 -2.66666667e-01]]\n"
          ]
        }
      ]
    },
    {
      "cell_type": "markdown",
      "source": [
        "**Task 9**\n",
        "Створіть матрицю розміром 4x4, заповніть її випадковими дійсними числами в діапазоні від 0 до 1 та транспонуйте її."
      ],
      "metadata": {
        "id": "mr60jA7sc6h7"
      }
    },
    {
      "cell_type": "code",
      "source": [
        "matrix = np.random.random((4, 4))\n",
        "print(\"Матриця початкова\")\n",
        "print(matrix)\n",
        "trans_matrix = matrix.T\n",
        "print(\"Матриця транспонована\")\n",
        "print(trans_matrix)\n"
      ],
      "metadata": {
        "colab": {
          "base_uri": "https://localhost:8080/"
        },
        "id": "RCt3bquRdAgf",
        "outputId": "ace7fcd7-be8c-47ca-a6b0-802dddc95fae"
      },
      "execution_count": 8,
      "outputs": [
        {
          "output_type": "stream",
          "name": "stdout",
          "text": [
            "Матриця початкова\n",
            "[[0.42229498 0.42786826 0.4163139  0.0104417 ]\n",
            " [0.31305647 0.03043989 0.73192904 0.77810622]\n",
            " [0.83794894 0.76062852 0.25197166 0.24221212]\n",
            " [0.60444612 0.33030487 0.25067882 0.81159005]]\n",
            "Матриця транспонована\n",
            "[[0.42229498 0.31305647 0.83794894 0.60444612]\n",
            " [0.42786826 0.03043989 0.76062852 0.33030487]\n",
            " [0.4163139  0.73192904 0.25197166 0.25067882]\n",
            " [0.0104417  0.77810622 0.24221212 0.81159005]]\n"
          ]
        }
      ]
    },
    {
      "cell_type": "markdown",
      "source": [
        "**Task 10**\n",
        "Створіть матрицю розміром 3x4 та вектор розміром 4, заповніть їх випадковими цілими числами в діапазоні від 1 до 10 та перемножте матрицю на вектор"
      ],
      "metadata": {
        "id": "G7NhgpCHdfqk"
      }
    },
    {
      "cell_type": "code",
      "source": [
        "matrix = np.random.randint(1, 11, (3, 4))\n",
        "print(\"Matrix:\")\n",
        "print(matrix)\n",
        "vector = np.random.randint(1, 11, 4)\n",
        "print(\"Vector:\")\n",
        "print(vector)\n",
        "result = matrix * vector\n",
        "print(\"Добуток матриці на вектор:\")\n",
        "print(result)\n"
      ],
      "metadata": {
        "colab": {
          "base_uri": "https://localhost:8080/"
        },
        "id": "Qy2ICYDIdsQq",
        "outputId": "c9e922d6-5ab4-49cd-d4d8-4047e556815a"
      },
      "execution_count": 9,
      "outputs": [
        {
          "output_type": "stream",
          "name": "stdout",
          "text": [
            "Matrix:\n",
            "[[ 7  8  4  2]\n",
            " [ 9  5 10  4]\n",
            " [ 3  2  3  2]]\n",
            "Vector:\n",
            "[9 2 9 7]\n",
            "Добуток матриці на вектор:\n",
            "[[63 16 36 14]\n",
            " [81 10 90 28]\n",
            " [27  4 27 14]]\n"
          ]
        }
      ]
    },
    {
      "cell_type": "markdown",
      "source": [
        "**Task 11**\n",
        "Створіть матрицю розміром 2x3 та вектор розміром 3, заповніть їх випадковими дійсними числами в діапазоні від 0 до 1 та перемножте матрицю на вектор."
      ],
      "metadata": {
        "id": "gIkLK6DLeTi4"
      }
    },
    {
      "cell_type": "code",
      "source": [
        "matrix = np.random.random((2, 3))\n",
        "print(\"Matrix:\")\n",
        "print(matrix)\n",
        "vector = np.random.random((3))\n",
        "print(\"Vector:\")\n",
        "print(vector)\n",
        "result = matrix * vector\n",
        "print(\"Добуток матриці на вектор:\")\n",
        "print(result)"
      ],
      "metadata": {
        "colab": {
          "base_uri": "https://localhost:8080/"
        },
        "id": "4mEn-Nnxeeog",
        "outputId": "9038c174-4729-41d2-dbf3-df5b1b2444d6"
      },
      "execution_count": 10,
      "outputs": [
        {
          "output_type": "stream",
          "name": "stdout",
          "text": [
            "Matrix:\n",
            "[[0.13561629 0.81974265 0.61585886]\n",
            " [0.59951459 0.23902709 0.92091028]]\n",
            "Vector:\n",
            "[0.37827642 0.95202542 0.17205559]\n",
            "Добуток матриці на вектор:\n",
            "[[0.05130044 0.78041584 0.10596196]\n",
            " [0.22678223 0.22755986 0.15844776]]\n"
          ]
        }
      ]
    },
    {
      "cell_type": "markdown",
      "source": [
        "**Task 12**\n",
        "Створіть дві матриці розміром 2x2, заповніть їх випадковими цілими числами в діапазоні від 1 до 10 та виконайте їхнє поелементне множення."
      ],
      "metadata": {
        "id": "K4ZwmgJ-eqaq"
      }
    },
    {
      "cell_type": "code",
      "source": [
        "matrix_1 = np.random.randint(1, 11, (2, 2))\n",
        "print(\"Перша матриця:\")\n",
        "print(matrix_1)\n",
        "matrix_2 = np.random.randint(1, 11, (2, 2))\n",
        "print(\"Друга матриця:\")\n",
        "print(matrix_2)\n",
        "result = matrix_1 * matrix_2\n",
        "print(\"Добуток двох матриць:\")\n",
        "print(result)"
      ],
      "metadata": {
        "colab": {
          "base_uri": "https://localhost:8080/"
        },
        "id": "rekFiYCre6TX",
        "outputId": "db96db23-1a17-4831-8dfd-3569b55bf64d"
      },
      "execution_count": 12,
      "outputs": [
        {
          "output_type": "stream",
          "name": "stdout",
          "text": [
            "Перша матриця:\n",
            "[[10 10]\n",
            " [ 6  4]]\n",
            "Друга матриця:\n",
            "[[5 1]\n",
            " [3 8]]\n",
            "Добуток двох матриць:\n",
            "[[50 10]\n",
            " [18 32]]\n"
          ]
        }
      ]
    },
    {
      "cell_type": "markdown",
      "source": [
        "**Task 13**\n",
        "Створіть дві матриці розміром 2x2, заповніть їх випадковими цілими числами в діапазоні від 1 до 10 та знайдіть їх добуток."
      ],
      "metadata": {
        "id": "QpYruaV-fteO"
      }
    },
    {
      "cell_type": "code",
      "source": [
        "matrix_1 = np.random.randint(1, 11, (2, 2))\n",
        "print(\"Перша матриця:\")\n",
        "print(matrix_1)\n",
        "matrix_2 = np.random.randint(1, 11, (2, 2))\n",
        "print(\"Друга матриця:\")\n",
        "print(matrix_2)\n",
        "result = np.dot(matrix_1 , matrix_2)\n",
        "print(\"Добуток двох матриць:\")\n",
        "print(result)"
      ],
      "metadata": {
        "colab": {
          "base_uri": "https://localhost:8080/"
        },
        "id": "_hMx6r-dgLX7",
        "outputId": "bc7db5ae-1da2-438e-84f2-226a8c6020b4"
      },
      "execution_count": 13,
      "outputs": [
        {
          "output_type": "stream",
          "name": "stdout",
          "text": [
            "Перша матриця:\n",
            "[[5 1]\n",
            " [8 8]]\n",
            "Друга матриця:\n",
            "[[9 6]\n",
            " [9 2]]\n",
            "Добуток двох матриць:\n",
            "[[ 54  32]\n",
            " [144  64]]\n"
          ]
        }
      ]
    },
    {
      "cell_type": "markdown",
      "source": [
        "**Task 14**\n",
        "Створіть матрицю розміром 5x5, заповніть її випадковими цілими числами в діапазоні від 1 до 100 та знайдіть суму елементів матриці."
      ],
      "metadata": {
        "id": "hnA7IP4cgW5n"
      }
    },
    {
      "cell_type": "code",
      "source": [
        "matrix = np.random.randint(1, 101, (5, 5))\n",
        "print(\" матриця:\")\n",
        "print(matrix)\n",
        "\n",
        "result = np.sum(matrix)\n",
        "print(\"Сума елементів матриці:\")\n",
        "print(result)"
      ],
      "metadata": {
        "colab": {
          "base_uri": "https://localhost:8080/"
        },
        "id": "lXTtgqIegj7Q",
        "outputId": "5db30916-fcfe-4a19-bcab-b492c7a8a89f"
      },
      "execution_count": 15,
      "outputs": [
        {
          "output_type": "stream",
          "name": "stdout",
          "text": [
            " матриця:\n",
            "[[47 56 35 62 99]\n",
            " [55 52 37 45 66]\n",
            " [ 7 64 91 64 84]\n",
            " [71 95 93 87 49]\n",
            " [51 71 52 36 50]]\n",
            "Сума елементів матриці:\n",
            "1519\n"
          ]
        }
      ]
    },
    {
      "cell_type": "markdown",
      "source": [
        "**Task 15**\n",
        "Створіть дві матриці розміром 4x4, заповніть їх випадковими цілими числами в діапазоні від 1 до 10 та знайдіть їхню різницю."
      ],
      "metadata": {
        "id": "8OXYHsObhyiX"
      }
    },
    {
      "cell_type": "code",
      "source": [
        "matrix_1 = np.random.randint(1, 11, (4, 4))\n",
        "print(\"Перша матриця:\")\n",
        "print(matrix_1)\n",
        "matrix_2 = np.random.randint(1, 11, (4, 4))\n",
        "print(\"Друга матриця:\")\n",
        "print(matrix_2)\n",
        "result = matrix_1 - matrix_2\n",
        "print(\"Різниця двох матриць:\")\n",
        "print(result)"
      ],
      "metadata": {
        "colab": {
          "base_uri": "https://localhost:8080/"
        },
        "id": "r2iI6x67h9G8",
        "outputId": "cc6a4127-190d-483a-bf9d-f2eb95bc608b"
      },
      "execution_count": 16,
      "outputs": [
        {
          "output_type": "stream",
          "name": "stdout",
          "text": [
            "Перша матриця:\n",
            "[[10  2  8  3]\n",
            " [10  5  9 10]\n",
            " [10  6  5  3]\n",
            " [ 2  1  2  9]]\n",
            "Друга матриця:\n",
            "[[ 1  3  1  1]\n",
            " [ 8 10  8  9]\n",
            " [ 6  1  8  9]\n",
            " [ 4  4  6  1]]\n",
            "Різниця двох матриць:\n",
            "[[ 9 -1  7  2]\n",
            " [ 2 -5  1  1]\n",
            " [ 4  5 -3 -6]\n",
            " [-2 -3 -4  8]]\n"
          ]
        }
      ]
    },
    {
      "cell_type": "markdown",
      "source": [
        "**Task 16**\n",
        "Створіть матрицю розміром 3x3, заповніть її випадковими дійсними числами в діапазоні від 0 до 1 та знайдіть вектор-стовпчик, що містить суму елементів кожного рядка матриці."
      ],
      "metadata": {
        "id": "IhAibqsJiJ6O"
      }
    },
    {
      "cell_type": "code",
      "source": [
        "matrix = np.random.random((3, 3))\n",
        "print(\"Matrix:\")\n",
        "print(matrix)\n",
        "print(\"Перше число вектора - сума першого рядка матриці:\")\n",
        "num_one = np.sum(matrix[0])\n",
        "print(num_one)\n",
        "print(\"Друге число вектора - сума другого рядка матриці:\")\n",
        "num_two = np.sum(matrix[1])\n",
        "print(num_two)\n",
        "print(\"Третє  число вектора - сума третього рядка матриці:\")\n",
        "num_three = np.sum(matrix[2])\n",
        "print(num_three)\n",
        "vector = np.array([num_one, num_two, num_three]).reshape(3, 1)\n",
        "print(\"Вектор-стовпчик:\")\n",
        "print(vector)"
      ],
      "metadata": {
        "colab": {
          "base_uri": "https://localhost:8080/"
        },
        "id": "NoD67Mc7ibr5",
        "outputId": "cb42c3c7-07bf-4d18-e1ce-76a3100d6bab"
      },
      "execution_count": 24,
      "outputs": [
        {
          "output_type": "stream",
          "name": "stdout",
          "text": [
            "Matrix:\n",
            "[[0.01903909 0.17213585 0.41878392]\n",
            " [0.34879018 0.57788642 0.83638931]\n",
            " [0.92969829 0.10813051 0.57829897]]\n",
            "Перше число вектора - сума першого рядка матриці:\n",
            "0.6099588654623572\n",
            "Друге число вектора - сума другого рядка матриці:\n",
            "1.7630659240525528\n",
            "Третє  число вектора - сума третього рядка матриці:\n",
            "1.6161277705832637\n",
            "Вектор-стовпчик:\n",
            "[[0.60995887]\n",
            " [1.76306592]\n",
            " [1.61612777]]\n"
          ]
        }
      ]
    },
    {
      "cell_type": "markdown",
      "source": [
        "**Task 17**\n",
        "Створіть матрицю розміром 3x4 з довільними цілими числами і створінь матрицю з квадратами цих чисел.\n"
      ],
      "metadata": {
        "id": "NyIZ1SDwleNy"
      }
    },
    {
      "cell_type": "code",
      "source": [
        "matrix = np.random.randint(1, 11, (3, 4))\n",
        "print(\"Матриця:\")\n",
        "print(matrix)\n",
        "sqr_matrix = np.square(matrix)\n",
        "print(\"Матриця з квадратів чисел:\")\n",
        "print(sqr_matrix)"
      ],
      "metadata": {
        "colab": {
          "base_uri": "https://localhost:8080/"
        },
        "id": "t9WcnXi6ly0W",
        "outputId": "70806c81-8dbb-4df1-90e0-23a243f594c0"
      },
      "execution_count": 25,
      "outputs": [
        {
          "output_type": "stream",
          "name": "stdout",
          "text": [
            "Матриця:\n",
            "[[5 3 2 8]\n",
            " [1 8 7 8]\n",
            " [2 3 4 2]]\n",
            "Матриця з квадратів чисел:\n",
            "[[25  9  4 64]\n",
            " [ 1 64 49 64]\n",
            " [ 4  9 16  4]]\n"
          ]
        }
      ]
    },
    {
      "cell_type": "markdown",
      "source": [
        "**Task 18**\n",
        "Створіть вектор розміром 4, заповніть його випадковими цілими числами в діапазоні від 1 до 50 та знайдіть вектор з квадратними коренями цих чисел."
      ],
      "metadata": {
        "id": "EYVa5kKynFTe"
      }
    },
    {
      "cell_type": "code",
      "source": [
        "vector = np.random.randint(1, 51, (4))\n",
        "print(\"Початковий вектор:\")\n",
        "print(vector)\n",
        "sqrt_vector = np.sqrt(vector)\n",
        "print(\"Вектор з коренів чисел:\")\n",
        "print(sqrt_vector)"
      ],
      "metadata": {
        "colab": {
          "base_uri": "https://localhost:8080/"
        },
        "id": "cxtPjAY0nPwR",
        "outputId": "166dec55-9331-41e5-dc98-00b5e91890b1"
      },
      "execution_count": 26,
      "outputs": [
        {
          "output_type": "stream",
          "name": "stdout",
          "text": [
            "Початковий вектор:\n",
            "[35 31  5 49]\n",
            "Вектор з коренів чисел:\n",
            "[5.91607978 5.56776436 2.23606798 7.        ]\n"
          ]
        }
      ]
    }
  ]
}